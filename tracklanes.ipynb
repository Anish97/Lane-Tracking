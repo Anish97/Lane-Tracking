{
 "cells": [
  {
   "cell_type": "code",
   "execution_count": 2,
   "metadata": {},
   "outputs": [],
   "source": [
    "import numpy as np\n",
    "import cv2\n",
    "import glob\n",
    "import matplotlib.pyplot as plt\n",
    "%matplotlib qt\n",
    "\n",
    "# prepare object points, like (0,0,0), (1,0,0), (2,0,0) ....,(6,5,0)\n",
    "objp = np.zeros((6*9,3), np.float32)\n",
    "objp[:,:2] = np.mgrid[0:9,0:6].T.reshape(-1,2)\n",
    "\n",
    "# Arrays to store object points and image points from all the images.\n",
    "objpoints = [] # 3d points in real world space\n",
    "imgpoints = [] # 2d points in image plane.\n",
    "\n",
    "# Make a list of calibration images\n",
    "images = glob.glob('./camera_cal/calibration*.jpg')\n",
    "\n",
    "# Step through the list and search for chessboard corners\n",
    "for fname in images:\n",
    "    img = cv2.imread(fname)\n",
    "    gray = cv2.cvtColor(img,cv2.COLOR_BGR2GRAY)\n",
    "\n",
    "    # Find the chessboard corners\n",
    "    ret, corners = cv2.findChessboardCorners(gray, (9,6),None)\n",
    "\n",
    "    # If found, add object points, image points\n",
    "    if ret == True:\n",
    "        objpoints.append(objp)\n",
    "        imgpoints.append(corners)\n",
    "\n",
    "        # Draw and display the corners\n",
    "        img = cv2.drawChessboardCorners(img, (9,6), corners, ret)\n",
    "#         cv2.imshow('img',img)\n",
    "#         cv2.waitKey(500)\n",
    "\n",
    "cv2.destroyAllWindows()"
   ]
  },
  {
   "cell_type": "code",
   "execution_count": 3,
   "metadata": {},
   "outputs": [],
   "source": [
    "ret, mtx, dist, rvecs, tvecs = cv2.calibrateCamera(objpoints, imgpoints, gray.shape[::-1], None, None)"
   ]
  },
  {
   "cell_type": "code",
   "execution_count": 25,
   "metadata": {},
   "outputs": [],
   "source": [
    "sample_checkboard_img = cv2.imread(images[0])\n",
    "undist_checkboard = cv2.undistort(sample_checkboard_img, mtx, dist, None, mtx)\n",
    "fig, axes= plt.subplots(1,2,figsize=(20,8))\n",
    "axes[0].imshow(sample_checkboard_img)\n",
    "axes[1].imshow(undist_checkboard)\n",
    "plt.savefig('output_images/undistorted.png')"
   ]
  },
  {
   "cell_type": "code",
   "execution_count": 26,
   "metadata": {},
   "outputs": [
    {
     "data": {
      "text/plain": [
       "<matplotlib.image.AxesImage at 0x2c183471610>"
      ]
     },
     "execution_count": 26,
     "metadata": {},
     "output_type": "execute_result"
    }
   ],
   "source": [
    "input_img = cv2.imread('./test_images/test5.jpg')\n",
    "input_img = cv2.cvtColor(input_img,cv2.COLOR_BGR2RGB)\n",
    "plt.figure()\n",
    "plt.imshow(input_img)"
   ]
  },
  {
   "cell_type": "code",
   "execution_count": 27,
   "metadata": {},
   "outputs": [
    {
     "data": {
      "text/plain": [
       "<matplotlib.image.AxesImage at 0x2c1834ce370>"
      ]
     },
     "execution_count": 27,
     "metadata": {},
     "output_type": "execute_result"
    }
   ],
   "source": [
    "undist = cv2.undistort(input_img, mtx, dist, None, mtx)\n",
    "plt.imshow(undist)"
   ]
  },
  {
   "cell_type": "code",
   "execution_count": 7,
   "metadata": {},
   "outputs": [],
   "source": [
    "def calculateTransformMatrix(img,reverse = False):\n",
    "    h,w,_ = img.shape   \n",
    "    src = np.float32([[w*0.45,h*0.64],[w*0.16,h],[w*0.88,h],[w*0.55,h*0.64]])\n",
    "    dst = np.float32([[w*0.25,0],[w*0.25,h],[w*0.75,h],[w*0.75,0]])\n",
    "#     src = np.float32([[w*0.12,h],[w*0.46,h*62],[w*0.55,h*0.62],[w*0.97,h]])\n",
    "#     dst = np.float32([[w*0.2,h],[w*0.2,w],[w*0.75,w],[w*0.75,0]])\n",
    "    if reverse:\n",
    "        M = cv2.getPerspectiveTransform(dst,src)\n",
    "    else:\n",
    "        M = cv2.getPerspectiveTransform(src,dst)\n",
    "    return M"
   ]
  },
  {
   "cell_type": "code",
   "execution_count": 8,
   "metadata": {},
   "outputs": [],
   "source": [
    "# src = np.float32([[150,720],[590,450],[700,450],[1250,720]])\n",
    "# dst = np.float32([[200,720],[200,0],[980,0],[980,720]])\n",
    "M = calculateTransformMatrix(undist)\n",
    "corrected = cv2.warpPerspective(undist,M,(undist.shape[1], undist.shape[0]))\n",
    "plt.imshow(corrected)\n",
    "ym_per_pix = 30/720 # meters per pixel in y dimension\n",
    "xm_per_pix = 3.7/700 # meters per pixel in x dimension"
   ]
  },
  {
   "cell_type": "code",
   "execution_count": 19,
   "metadata": {},
   "outputs": [],
   "source": [
    "def pipeline(img, s_thresh=(170, 255), sx_thresh=(20, 100)):\n",
    "    img = np.copy(img)\n",
    "    # Convert to HLS color space and separate the V channel\n",
    "    hls = cv2.cvtColor(img, cv2.COLOR_RGB2HLS)\n",
    "    l_channel = hls[:,:,1]\n",
    "    s_channel = hls[:,:,2]\n",
    "    # Sobel x\n",
    "    sobelx = cv2.Sobel(l_channel, cv2.CV_64F, 1, 0) # Take the derivative in x\n",
    "    abs_sobelx = np.absolute(sobelx) # Absolute x derivative to accentuate lines away from horizontal\n",
    "    scaled_sobel = np.uint8(255*abs_sobelx/np.max(abs_sobelx))\n",
    "    \n",
    "    # Threshold x gradient\n",
    "    sxbinary = np.zeros_like(scaled_sobel)\n",
    "    sxbinary[(scaled_sobel >= sx_thresh[0]) & (scaled_sobel <= sx_thresh[1])] = 1\n",
    "    \n",
    "#     Threshold color channel\n",
    "    s_binary = np.zeros_like(s_channel)\n",
    "    s_binary[(s_channel >= s_thresh[0]) & (s_channel <= s_thresh[1])] = 1\n",
    "    \n",
    "    result = np.bitwise_and(sxbinary,s_binary)\n",
    "#     Stack each channel\n",
    "    color_binary = np.dstack(( np.zeros_like(sxbinary), sxbinary, s_binary)) * 255\n",
    "    return result\n",
    "thresh = pipeline(corrected, s_thresh=(10, 255), sx_thresh=(20, 100))\n",
    "fig, axes= plt.subplots(1,3,figsize=(20,8))\n",
    "axes[0].imshow(input_img)\n",
    "axes[1].imshow(corrected)\n",
    "axes[2].imshow(thresh)\n",
    "plt.savefig('output_images/thresh.png')"
   ]
  },
  {
   "cell_type": "code",
   "execution_count": 10,
   "metadata": {},
   "outputs": [],
   "source": [
    "def find_lane_pixels(binary_warped):\n",
    "    # Take a histogram of the bottom half of the image\n",
    "    histogram = np.sum(binary_warped[binary_warped.shape[0]//2:,:], axis=0)\n",
    "    # Create an output image to draw on and visualize the result\n",
    "    out_img = np.dstack((binary_warped, binary_warped, binary_warped))\n",
    "    # Find the peak of the left and right halves of the histogram\n",
    "    # These will be the starting point for the left and right lines\n",
    "    midpoint = np.int(histogram.shape[0]//2)\n",
    "    leftx_base = np.argmax(histogram[:midpoint])\n",
    "    rightx_base = np.argmax(histogram[midpoint:]) + midpoint\n",
    "\n",
    "    # HYPERPARAMETERS\n",
    "    # Choose the number of sliding windows\n",
    "    nwindows = 9\n",
    "    # Set the width of the windows +/- margin\n",
    "    margin = 100\n",
    "    # Set minimum number of pixels found to recenter window\n",
    "    minpix = 50\n",
    "\n",
    "    # Set height of windows - based on nwindows above and image shape\n",
    "    window_height = np.int(binary_warped.shape[0]//nwindows)\n",
    "    # Identify the x and y positions of all nonzero pixels in the image\n",
    "    nonzero = binary_warped.nonzero()\n",
    "    nonzeroy = np.array(nonzero[0])\n",
    "    nonzerox = np.array(nonzero[1])\n",
    "    # Current positions to be updated later for each window in nwindows\n",
    "    leftx_current = leftx_base\n",
    "    rightx_current = rightx_base\n",
    "\n",
    "    # Create empty lists to receive left and right lane pixel indices\n",
    "    left_lane_inds = []\n",
    "    right_lane_inds = []\n",
    "\n",
    "    # Step through the windows one by one\n",
    "    for window in range(nwindows):\n",
    "        # Identify window boundaries in x and y (and right and left)\n",
    "        win_y_low = binary_warped.shape[0] - (window+1)*window_height\n",
    "        win_y_high = binary_warped.shape[0] - window*window_height\n",
    "        ### TO-DO: Find the four below boundaries of the window ###\n",
    "        win_xleft_low = leftx_current - margin  # Update this\n",
    "        win_xleft_high = leftx_current + margin  # Update this\n",
    "        win_xright_low = rightx_current - margin  # Update this\n",
    "        win_xright_high = rightx_current + margin  # Update this\n",
    "            \n",
    "        ### TO-DO: Identify the nonzero pixels in x and y within the window ###\n",
    "        good_left_inds = ((nonzeroy>=win_y_low) & (nonzeroy<win_y_high) & (nonzerox>=win_xleft_low) & (nonzerox<win_xleft_high)).nonzero()[0]\n",
    "        good_right_inds = ((nonzeroy>=win_y_low) & (nonzeroy<win_y_high) & (nonzerox>=win_xright_low) & (nonzerox<win_xright_high)).nonzero()[0]\n",
    "        # Append these indices to the lishigh\n",
    "        right_lane_inds.append(good_right_inds)\n",
    "        left_lane_inds.append(good_left_inds)\n",
    "        ### (`right` or `leftx_current`) on their mean position ###\n",
    "        if len(good_left_inds)>minpix:\n",
    "            leftx_current = np.int(np.mean(nonzerox[good_left_inds]))\n",
    "        if len(good_right_inds)>minpix:\n",
    "            rightx_current = np.int(np.mean(nonzerox[good_right_inds]))\n",
    "        pass # Remove this when you add your function\n",
    "\n",
    "    # Concatenate the arrays of indices (previously was a list of lists of pixels)\n",
    "    try:\n",
    "        left_lane_inds = np.concatenate(left_lane_inds)\n",
    "        right_lane_inds = np.concatenate(right_lane_inds)\n",
    "    except ValueError:\n",
    "        # Avoids an error if the above is not implemented fully\n",
    "        pass\n",
    "\n",
    "    # Extract left and right line pixel positions\n",
    "    leftx = nonzerox[left_lane_inds]\n",
    "    lefty = nonzeroy[left_lane_inds] \n",
    "    rightx = nonzerox[right_lane_inds]\n",
    "    righty = nonzeroy[right_lane_inds]\n",
    "\n",
    "    return leftx, lefty, rightx, righty, out_img"
   ]
  },
  {
   "cell_type": "code",
   "execution_count": 11,
   "metadata": {},
   "outputs": [],
   "source": [
    "def fit_poly(img_shape, leftx, lefty, rightx, righty):\n",
    "    #Fit a second order polynomial to each with np.polyfit() ###\n",
    "    left_fit = np.polyfit(lefty,leftx,2)\n",
    "    right_fit = np.polyfit(righty,rightx,2)\n",
    "    # Generate x and y values for plotting\n",
    "    ploty = np.linspace(0, img_shape[0]-1, img_shape[0])\n",
    "    #Calc both polynomials using ploty, left_fit and right_fit ###\n",
    "    left_fitx = left_fit[0]*ploty**2 + left_fit[1]*ploty + left_fit[2]\n",
    "    right_fitx = right_fit[0]*ploty**2 + right_fit[1]*ploty + right_fit[2]\n",
    "    \n",
    "    return left_fitx, right_fitx, ploty"
   ]
  },
  {
   "cell_type": "code",
   "execution_count": 12,
   "metadata": {},
   "outputs": [],
   "source": [
    "def search_new_lanes(binary_warped):\n",
    "    #Fit a second order polynomial to each using `np.polyfit` #\n",
    "    leftx, lefty, rightx, righty, lane_img = find_lane_pixels(binary_warped)\n",
    "    # Generate x and y values for plotting\n",
    "    ploty = np.linspace(0, binary_warped.shape[0]-1, binary_warped.shape[0] )\n",
    "    try:\n",
    "        left_fit = np.polyfit(lefty,leftx,2)\n",
    "        right_fit = np.polyfit(righty,rightx,2)\n",
    "        left_fitx = left_fit[0]*ploty**2 + left_fit[1]*ploty + left_fit[2]\n",
    "        right_fitx = right_fit[0]*ploty**2 + right_fit[1]*ploty + right_fit[2]\n",
    "        lanes_found = True\n",
    "    except TypeError:\n",
    "        # Avoids an error if `left` and `right_fit` are still none or incorrect\n",
    "        left_fitx = 1*ploty**2 + 1*ploty\n",
    "        right_fitx = 1*ploty**2 + 1*ploty\n",
    "        lanes_found = False\n",
    "        \n",
    "    ## Visualization ##\n",
    "    # Colors in the left and right lane regions\n",
    "    out_img = np.zeros_like(lane_img)\n",
    "    out_img[lefty, leftx] = [255, 0, 0]\n",
    "    out_img[righty, rightx] = [0, 0, 255]\n",
    "    zeros = np.array(np.where(binary_warped.T >= 0))\n",
    "    zeros_x = zeros[0]\n",
    "    zeros_y = zeros[1]\n",
    "    region = []\n",
    "    if(lanes_found):\n",
    "        lane_region = ((left_fit[0]*zeros_y**2 + left_fit[1]*zeros_y + left_fit[2]<zeros_x)&(right_fit[0]*zeros_y**2 + right_fit[1]*zeros_y + right_fit[2]>zeros_x)).nonzero()[0]\n",
    "        region.append(lane_region)\n",
    "        out_img[zeros_y[np.concatenate(region)],zeros_x[np.concatenate(region)]] = [0,255,0]\n",
    "    \n",
    "        curve_rad = measure_curvature_real(ploty,left_fit,right_fit)\n",
    "\n",
    "        y_vehicle = binary_warped.shape[0]\n",
    "        vehicle_offset = xm_per_pix*(left_fit[0]*y_vehicle**2 + left_fit[1]*y_vehicle + left_fit[2] + right_fit[0]*y_vehicle**2 + right_fit[1]*y_vehicle + right_fit[2] - binary_warped.shape[1])/2\n",
    "        return out_img, curve_rad, vehicle_offset, left_fit, right_fit, lanes_found\n",
    "    else:\n",
    "        return out_img, 0, 0, -1, -1, lanes_found"
   ]
  },
  {
   "cell_type": "code",
   "execution_count": 13,
   "metadata": {},
   "outputs": [],
   "source": [
    "def search_around_poly(binary_warped, left_fit,right_fit):\n",
    "    # HYPERPARAMETER\n",
    "    # Choose the width of the margin around the previous polynomial to search\n",
    "    # The quiz grader expects 100 here, but feel free to tune on your own!\n",
    "    if(left_fit!=None and right_fit!=None):\n",
    "        if abs(left_fit[0]-right_fit[0])<0.1 and abs(left_fit[1]-right_fit[1])<0.1 :\n",
    "            margin = 100\n",
    "\n",
    "            # Grab activated pixels\n",
    "            nonzero = binary_warped.nonzero()\n",
    "            nonzeroy = np.array(nonzero[0])\n",
    "            nonzerox = np.array(nonzero[1])\n",
    "            ### Set the area of search based on activated x-values ###\n",
    "            ### within the +/- margin of our polynomial function ###\n",
    "            ### Hint: consider the window areas for the similarly named variables ###\n",
    "            ### in the previous quiz, but change the windows to our new search area ###\n",
    "            left_lane_inds = ((left_fit[0]*(nonzeroy**2) + left_fit[1]*nonzeroy + left_fit[2] - nonzerox >=-margin) &\n",
    "                (left_fit[0]*nonzeroy**2 + left_fit[1]*nonzeroy + left_fit[2] - nonzerox <=margin)).nonzero()[0]\n",
    "            right_lane_inds = ((right_fit[0]*(nonzeroy**2) + right_fit[1]*nonzeroy + right_fit[2] - nonzerox >=-margin) &\n",
    "                (right_fit[0]*nonzeroy**2 + right_fit[1]*nonzeroy + right_fit[2] - nonzerox <=margin)).nonzero()[0]\n",
    "            # Again, extract left and right line pixel positions\n",
    "            leftx = nonzerox[left_lane_inds]\n",
    "            lefty = nonzeroy[left_lane_inds] \n",
    "            rightx = nonzerox[right_lane_inds]\n",
    "            righty = nonzeroy[right_lane_inds]\n",
    "\n",
    "            out_img = np.dstack((binary_warped, binary_warped, binary_warped))*255\n",
    "            # Fit new polynomials\n",
    "            left_fit = np.polyfit(lefty,leftx,2)\n",
    "            right_fit = np.polyfit(righty,rightx,2)\n",
    "    else:\n",
    "        try:\n",
    "            leftx, lefty, rightx, righty, out_img = find_lane_pixels(binary_warped)\n",
    "            left_fit = np.polyfit(lefty,leftx,2)\n",
    "            right_fit = np.polyfit(righty,rightx,2)\n",
    "        except:\n",
    "            return out_img, None, None, 0, 0\n",
    "    \n",
    "    ## Visualization ##\n",
    "    # Create an image to draw on and an image to show the selection window\n",
    "    \n",
    "    ploty = np.linspace(0, binary_warped.shape[0]-1, binary_warped.shape[0] )\n",
    "    out_img = np.dstack((binary_warped, binary_warped, binary_warped))\n",
    "    zeros = np.array(np.where(binary_warped.T >= 0))\n",
    "    zeros_x = np.array(zeros[0])\n",
    "    zeros_y = np.array(zeros[1])\n",
    "    lane_region = ((left_fit[0]*zeros_y**2 + left_fit[1]*zeros_y + left_fit[2]<zeros_x)&(right_fit[0]*zeros_y**2 + right_fit[1]*zeros_y + right_fit[2]>zeros_x)).nonzero()[0]\n",
    "    out_img[zeros_y[np.concatenate([lane_region])],zeros_x[np.concatenate([lane_region])]] = [0,255,0]\n",
    "    curve_rad = measure_curvature_real(ploty,left_fit,right_fit)\n",
    "    y_vehicle = binary_warped.shape[0]\n",
    "    vehicle_offset = xm_per_pix*(left_fit[0]*y_vehicle**2 + left_fit[1]*y_vehicle + left_fit[2] + right_fit[0]*y_vehicle**2 + right_fit[1]*y_vehicle + right_fit[2] - binary_warped.shape[1])/2\n",
    "        \n",
    "    return out_img, left_fit, right_fit, curve_rad, vehicle_offset"
   ]
  },
  {
   "cell_type": "code",
   "execution_count": 14,
   "metadata": {},
   "outputs": [],
   "source": [
    "def measure_curvature_real(ploty, left_fit_cr, right_fit_cr):  \n",
    "    # Define y-value where we want radius of curvature\n",
    "    # We'll choose the maximum y-value, corresponding to the bottom of the image\n",
    "    y_eval = np.max(ploty)\n",
    "\n",
    "    ##### Implement the calculation of R_curve (radius of curvature) #####\n",
    "    left_curverad = ((1 + (2*left_fit_cr[0]*y_eval*ym_per_pix + left_fit_cr[1])**2)**1.5) / np.absolute(2*left_fit_cr[0])\n",
    "    right_curverad = ((1 + (2*right_fit_cr[0]*y_eval*ym_per_pix + right_fit_cr[1])**2)**1.5) / np.absolute(2*right_fit_cr[0])\n",
    "\n",
    "    curve_rad = int(min(left_curverad, right_curverad))\n",
    "\n",
    "    return curve_rad"
   ]
  },
  {
   "cell_type": "code",
   "execution_count": 15,
   "metadata": {},
   "outputs": [],
   "source": [
    "def addText(img,curve_rad,vehicle_offset):\n",
    "    cv2.putText(img,'Radius of Curvature = '+str(curve_rad)+'(m)', (120,50),cv2.FONT_HERSHEY_SIMPLEX,2,(255,255,255),2)\n",
    "    if vehicle_offset>=0:\n",
    "        cv2.putText(img,'Vehicle is %.2f'%vehicle_offset+'m left of center', (120,110),cv2.FONT_HERSHEY_SIMPLEX,2,(255,255,255),2)\n",
    "    else:\n",
    "        cv2.putText(img,'Vehicle is %.2f'%-vehicle_offset+'m right of center', (120,110),cv2.FONT_HERSHEY_SIMPLEX,2,(255,255,255),2) \n",
    "    return img"
   ]
  },
  {
   "cell_type": "code",
   "execution_count": 29,
   "metadata": {},
   "outputs": [],
   "source": [
    "lane_region, curve_rad, vehicle_offset, left_fit, right_fit, lanes_found = search_new_lanes(thresh)\n",
    "M_inv = calculateTransformMatrix(input_img, True)\n",
    "lanes_unwarped = cv2.warpPerspective(lane_region,M_inv,(undist.shape[1], undist.shape[0]))\n",
    "annotated_lanes = cv2.addWeighted(undist,0.8,lanes_unwarped,0.2,1)\n",
    "result = addText(annotated_lanes,curve_rad, vehicle_offset)\n",
    "fig, axes= plt.subplots(1,3,figsize=(20,8))\n",
    "axes[0].imshow(corrected)\n",
    "axes[1].imshow(thresh)\n",
    "axes[2].imshow(lane_region)\n",
    "plt.savefig('output_images/lane_region.png')\n",
    "fig = plt.plot()\n",
    "plt.imshow(result)\n",
    "plt.savefig('output_images/result.png')"
   ]
  },
  {
   "cell_type": "code",
   "execution_count": null,
   "metadata": {},
   "outputs": [],
   "source": [
    "from moviepy.editor import VideoFileClip\n",
    "from IPython.display import HTML"
   ]
  },
  {
   "cell_type": "code",
   "execution_count": null,
   "metadata": {},
   "outputs": [],
   "source": [
    "left_fit,right_fit, M, M_inv = None, None, None, None\n",
    "def process_image(frame):\n",
    "    global left_fit,right_fit, M, M_inv\n",
    "    if M is None:\n",
    "        M = calculateTransformMatrix(frame)\n",
    "        M_inv = calculateTransformMatrix(frame,reverse = True)\n",
    "    undist = cv2.undistort(frame, mtx, dist, None, mtx)\n",
    "    corrected = cv2.warpPerspective(undist,M,(undist.shape[1], undist.shape[0]))\n",
    "    thresh = pipeline(corrected, s_thresh=(100, 255), sx_thresh=(10, 100))\n",
    "    try:\n",
    "        lane_region, left_fit, right_fit, curve_rad, vehicle_offset = search_around_poly(thresh,left_fit,right_fit)\n",
    "    except:\n",
    "        lane_region, left_fit, right_fit, curve_rad, vehicle_offset = search_around_poly(thresh,None,None)\n",
    "    \n",
    "    lanes_unwarped = cv2.warpPerspective(lane_region,M_inv,(undist.shape[1], undist.shape[0]))\n",
    "    annotated_lanes = cv2.addWeighted(undist,0.5,lanes_unwarped,0.5,1)\n",
    "    if curve_rad:\n",
    "        result = addText(annotated_lanes,curve_rad, vehicle_offset)\n",
    "    else:\n",
    "        result = annotated_lanes\n",
    "    return result"
   ]
  },
  {
   "cell_type": "code",
   "execution_count": null,
   "metadata": {
    "scrolled": true
   },
   "outputs": [],
   "source": [
    "white_output = 'project_video_output.mp4'\n",
    "## To speed up the testing process you may want to try your pipeline on a shorter subclip of the video\n",
    "## To do so add .subclip(start_second,end_second) to the end of the line below\n",
    "## Where start_second and end_second are integer values representing the start and end of the subclip\n",
    "## You may also uncomment the following line for a subclip of the first 5 seconds\n",
    "# clip1 = VideoFileClip(\"project_video.mp4\").subclip(23,28)\n",
    "clip1 = VideoFileClip(\"project_video.mp4\")\n",
    "# clip1 = VideoFileClip(\"test_videos/solidWhiteRight.mp4\")\n",
    "white_clip = clip1.fl_image(process_image) #NOTE: this function expects color images!!\n",
    "%time white_clip.write_videofile(white_output, audio=False)"
   ]
  },
  {
   "cell_type": "code",
   "execution_count": null,
   "metadata": {},
   "outputs": [],
   "source": [
    "HTML(\"\"\"\n",
    "<video width=\"960\" height=\"540\" controls>\n",
    "  <source src=\"{0}\">\n",
    "</video>\n",
    "\"\"\".format(white_output))"
   ]
  },
  {
   "cell_type": "code",
   "execution_count": 18,
   "metadata": {},
   "outputs": [
    {
     "data": {
      "text/plain": [
       "<matplotlib.image.AxesImage at 0x2c1f6e61850>"
      ]
     },
     "execution_count": 18,
     "metadata": {},
     "output_type": "execute_result"
    }
   ],
   "source": [
    "plt.imshow(thresh)"
   ]
  }
 ],
 "metadata": {
  "kernelspec": {
   "display_name": "Python 3",
   "language": "python",
   "name": "python3"
  },
  "language_info": {
   "codemirror_mode": {
    "name": "ipython",
    "version": 3
   },
   "file_extension": ".py",
   "mimetype": "text/x-python",
   "name": "python",
   "nbconvert_exporter": "python",
   "pygments_lexer": "ipython3",
   "version": "3.8.5"
  }
 },
 "nbformat": 4,
 "nbformat_minor": 4
}
